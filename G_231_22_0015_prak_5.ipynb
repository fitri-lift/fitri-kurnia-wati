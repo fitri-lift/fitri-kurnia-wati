{
  "nbformat": 4,
  "nbformat_minor": 0,
  "metadata": {
    "colab": {
      "provenance": []
    },
    "kernelspec": {
      "name": "python3",
      "display_name": "Python 3"
    },
    "language_info": {
      "name": "python"
    }
  },
  "cells": [
    {
      "cell_type": "code",
      "execution_count": 1,
      "metadata": {
        "id": "cmjBv2m6W_Nl"
      },
      "outputs": [],
      "source": [
        "#Load libraries\n",
        "from sklearn.ensemble import AdaBoostClassifier\n",
        "from sklearn import datasets\n",
        "# Import train_test_split function\n",
        "from sklearn.model_selection import train_test_split\n",
        "#Import scikit-learn metrics module for accuracy calculation\n",
        "from sklearn import metrics"
      ]
    },
    {
      "cell_type": "code",
      "source": [
        "# Load data\n",
        "iris = datasets.load_iris()\n",
        "x = iris.data\n",
        "y = iris.target\n",
        ""
      ],
      "metadata": {
        "id": "rCTVp1I6XDcU"
      },
      "execution_count": 3,
      "outputs": []
    },
    {
      "cell_type": "code",
      "source": [
        "# split dataset into training set and test set\n",
        "x_train, x_test, y_train, y_test = train_test_split(x, y, test_size=0.3) # 70% training and 30% test\n"
      ],
      "metadata": {
        "id": "YmfCKBVPXOyW"
      },
      "execution_count": 4,
      "outputs": []
    },
    {
      "cell_type": "code",
      "source": [
        "# Create adaboost classifier object\n",
        "abc = AdaBoostClassifier(n_estimators=50,learning_rate=1)\n",
        "# Train Adaboost Classifer\n",
        "model = abc.fit(x_train, y_train)\n",
        "#predict the response for test dataset\n",
        "y_pred = model.predict(x_test)"
      ],
      "metadata": {
        "id": "xTtn_9ErXUeq"
      },
      "execution_count": 5,
      "outputs": []
    },
    {
      "cell_type": "code",
      "source": [
        "# Model Accuracy, how often is the classifer correct?\n",
        "print(\"Accuracy:\",metrics.accuracy_score(y_test, y_pred))"
      ],
      "metadata": {
        "colab": {
          "base_uri": "https://localhost:8080/"
        },
        "id": "3gvXjx-AXahp",
        "outputId": "2c91db14-674b-4b15-aa17-dd57e115a4d8"
      },
      "execution_count": 6,
      "outputs": [
        {
          "output_type": "stream",
          "name": "stdout",
          "text": [
            "Accuracy: 0.9555555555555556\n"
          ]
        }
      ]
    },
    {
      "cell_type": "code",
      "source": [
        "!git clone https://github.com/eriklindernoren/ML-From-Scratch"
      ],
      "metadata": {
        "colab": {
          "base_uri": "https://localhost:8080/"
        },
        "id": "C75YRPv4XfXT",
        "outputId": "b1d76c54-6674-4578-8dc1-e46e4e1bb29a"
      },
      "execution_count": 7,
      "outputs": [
        {
          "output_type": "stream",
          "name": "stdout",
          "text": [
            "Cloning into 'ML-From-Scratch'...\n",
            "remote: Enumerating objects: 2558, done.\u001b[K\n",
            "remote: Total 2558 (delta 0), reused 0 (delta 0), pack-reused 2558\u001b[K\n",
            "Receiving objects: 100% (2558/2558), 553.45 KiB | 7.79 MiB/s, done.\n",
            "Resolving deltas: 100% (1960/1960), done.\n"
          ]
        }
      ]
    },
    {
      "cell_type": "code",
      "source": [
        "import sys\n",
        "sys.path.append('/content/ML-From-Scratch')"
      ],
      "metadata": {
        "id": "RX6opKL5Xp9q"
      },
      "execution_count": 8,
      "outputs": []
    },
    {
      "cell_type": "code",
      "source": [
        "from __future__ import division, print_function\n",
        "import numpy as np\n",
        "import math\n",
        "from sklearn import datasets\n",
        "import matplotlib.pyplot as plt\n",
        "import pandas as pd"
      ],
      "metadata": {
        "id": "qWYU6XNjakwJ"
      },
      "execution_count": 23,
      "outputs": []
    }
  ]
}